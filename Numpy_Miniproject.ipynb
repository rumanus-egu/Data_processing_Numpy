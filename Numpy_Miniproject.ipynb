{
  "nbformat": 4,
  "nbformat_minor": 0,
  "metadata": {
    "colab": {
      "name": " Numpy_Miniproject",
      "provenance": [],
      "collapsed_sections": []
    },
    "kernelspec": {
      "name": "python3",
      "display_name": "Python 3"
    },
    "language_info": {
      "name": "python"
    }
  },
  "cells": [
    {
      "cell_type": "markdown",
      "metadata": {
        "id": "qDwQw79ww89P"
      },
      "source": [
        "**Mini Project**"
      ]
    },
    {
      "cell_type": "code",
      "metadata": {
        "id": "nfQde0JMePNT"
      },
      "source": [
        "# Reading & loading the data"
      ],
      "execution_count": null,
      "outputs": []
    },
    {
      "cell_type": "code",
      "metadata": {
        "id": "KAdbq6q_xNFp"
      },
      "source": [
        "data_file = 'makeSenseOfCensus.csv'\n",
        "import numpy as np"
      ],
      "execution_count": 78,
      "outputs": []
    },
    {
      "cell_type": "code",
      "metadata": {
        "colab": {
          "base_uri": "https://localhost:8080/"
        },
        "id": "zBYn8KIcyift",
        "outputId": "9b36a815-d7a5-4205-c96b-47295973b7e5"
      },
      "source": [
        "data = np.genfromtxt(data_file, delimiter=\",\", skip_header=1,dtype=int)\n",
        "print(\"\\nData: \\n\\n\", data)"
      ],
      "execution_count": 79,
      "outputs": [
        {
          "output_type": "stream",
          "name": "stdout",
          "text": [
            "\n",
            "Data: \n",
            "\n",
            " [[39 13  4 ...  0 40  0]\n",
            " [50 13  4 ...  0 13  0]\n",
            " [38  9  4 ...  0 40  0]\n",
            " ...\n",
            " [48 13  4 ...  0 58  1]\n",
            " [40 10  4 ...  0 40  0]\n",
            " [39 13  4 ...  0 50  1]]\n"
          ]
        }
      ]
    },
    {
      "cell_type": "code",
      "metadata": {
        "id": "6GFqhRureWSz"
      },
      "source": [
        "# data shape"
      ],
      "execution_count": null,
      "outputs": []
    },
    {
      "cell_type": "code",
      "metadata": {
        "colab": {
          "base_uri": "https://localhost:8080/"
        },
        "id": "W16OfEX64oA3",
        "outputId": "7081c095-81a6-4ebe-9c98-5401698c9b5a"
      },
      "source": [
        "data.shape"
      ],
      "execution_count": 80,
      "outputs": [
        {
          "output_type": "execute_result",
          "data": {
            "text/plain": [
              "(1000, 8)"
            ]
          },
          "metadata": {},
          "execution_count": 80
        }
      ]
    },
    {
      "cell_type": "code",
      "metadata": {
        "id": "5WDk-K0mzWWc"
      },
      "source": [
        "# Printing the type of data"
      ],
      "execution_count": 81,
      "outputs": []
    },
    {
      "cell_type": "code",
      "metadata": {
        "colab": {
          "base_uri": "https://localhost:8080/"
        },
        "id": "Bh3sWnoSzpv4",
        "outputId": "ea31eb51-f852-4e34-ca29-7fd733836995"
      },
      "source": [
        "print(\"\\nType of data: \\n\\n\", type(data))"
      ],
      "execution_count": 82,
      "outputs": [
        {
          "output_type": "stream",
          "name": "stdout",
          "text": [
            "\n",
            "Type of data: \n",
            "\n",
            " <class 'numpy.ndarray'>\n"
          ]
        }
      ]
    },
    {
      "cell_type": "code",
      "metadata": {
        "id": "mTX3njFV0E-X"
      },
      "source": [
        "#  Step 2: Append the Data"
      ],
      "execution_count": 83,
      "outputs": []
    },
    {
      "cell_type": "code",
      "metadata": {
        "id": "h1K_CcqK0TxX"
      },
      "source": [
        "new_records=[[50, 9, 4, 1, 0, 0, 40, 0]]"
      ],
      "execution_count": 84,
      "outputs": []
    },
    {
      "cell_type": "code",
      "metadata": {
        "id": "RLJ3ngyG1Cwv"
      },
      "source": [
        "data_new=np.concatenate([data,new_records])"
      ],
      "execution_count": 85,
      "outputs": []
    },
    {
      "cell_type": "code",
      "metadata": {
        "colab": {
          "base_uri": "https://localhost:8080/"
        },
        "id": "1Qv6vP0i1Xf5",
        "outputId": "3c0ef5c0-73c2-41b0-e307-b9feb9865953"
      },
      "source": [
        "data_new"
      ],
      "execution_count": 86,
      "outputs": [
        {
          "output_type": "execute_result",
          "data": {
            "text/plain": [
              "array([[39, 13,  4, ...,  0, 40,  0],\n",
              "       [50, 13,  4, ...,  0, 13,  0],\n",
              "       [38,  9,  4, ...,  0, 40,  0],\n",
              "       ...,\n",
              "       [40, 10,  4, ...,  0, 40,  0],\n",
              "       [39, 13,  4, ...,  0, 50,  1],\n",
              "       [50,  9,  4, ...,  0, 40,  0]])"
            ]
          },
          "metadata": {},
          "execution_count": 86
        }
      ]
    },
    {
      "cell_type": "code",
      "metadata": {
        "id": "fzYz9TvAL6Dr"
      },
      "source": [
        "# Step 3: Check if it's a young country or old country"
      ],
      "execution_count": 87,
      "outputs": []
    },
    {
      "cell_type": "code",
      "metadata": {
        "colab": {
          "base_uri": "https://localhost:8080/"
        },
        "id": "xbp4t7714Wuo",
        "outputId": "5afc3bc5-0ec8-4916-9a14-78afca6a3a87"
      },
      "source": [
        "age = data_new[ : ,0]\n",
        "age"
      ],
      "execution_count": 88,
      "outputs": [
        {
          "output_type": "execute_result",
          "data": {
            "text/plain": [
              "array([39, 50, 38, ..., 40, 39, 50])"
            ]
          },
          "metadata": {},
          "execution_count": 88
        }
      ]
    },
    {
      "cell_type": "code",
      "metadata": {
        "colab": {
          "base_uri": "https://localhost:8080/"
        },
        "id": "2TfSeH2m6NbB",
        "outputId": "5829cb0b-0de8-4668-fd99-ad3f62ab59a1"
      },
      "source": [
        "max_age=age.max()\n",
        "print(max_age)"
      ],
      "execution_count": 89,
      "outputs": [
        {
          "output_type": "stream",
          "name": "stdout",
          "text": [
            "90\n"
          ]
        }
      ]
    },
    {
      "cell_type": "markdown",
      "metadata": {
        "id": "_ngz79KefA-c"
      },
      "source": [
        "**Thus the maximum age is 90**"
      ]
    },
    {
      "cell_type": "code",
      "metadata": {
        "colab": {
          "base_uri": "https://localhost:8080/"
        },
        "id": "IWWt_n7l6ltZ",
        "outputId": "ecc71800-d01d-4a2e-d2c9-995163f476e3"
      },
      "source": [
        "min_age=np.min(age)\n",
        "print(min_age)"
      ],
      "execution_count": 90,
      "outputs": [
        {
          "output_type": "stream",
          "name": "stdout",
          "text": [
            "17\n"
          ]
        }
      ]
    },
    {
      "cell_type": "markdown",
      "metadata": {
        "id": "YyVrEHVRfjOB"
      },
      "source": [
        "**The minimum age is 17**"
      ]
    },
    {
      "cell_type": "code",
      "metadata": {
        "id": "uR7_ZPYg6vH0"
      },
      "source": [
        "age_mean=age.mean()"
      ],
      "execution_count": 91,
      "outputs": []
    },
    {
      "cell_type": "code",
      "metadata": {
        "colab": {
          "base_uri": "https://localhost:8080/"
        },
        "id": "fa359zBa65PU",
        "outputId": "9d659b21-14ae-401b-a267-f77a34b6cf86"
      },
      "source": [
        "print(age_mean)"
      ],
      "execution_count": 92,
      "outputs": [
        {
          "output_type": "stream",
          "name": "stdout",
          "text": [
            "38.06293706293706\n"
          ]
        }
      ]
    },
    {
      "cell_type": "code",
      "metadata": {
        "colab": {
          "base_uri": "https://localhost:8080/"
        },
        "id": "11c331bO7Kaw",
        "outputId": "38e6f9ca-9d4f-4f7b-8ee3-a6e569b3f590"
      },
      "source": [
        "round(age_mean,1)"
      ],
      "execution_count": 93,
      "outputs": [
        {
          "output_type": "execute_result",
          "data": {
            "text/plain": [
              "38.1"
            ]
          },
          "metadata": {},
          "execution_count": 93
        }
      ]
    },
    {
      "cell_type": "code",
      "metadata": {
        "id": "PP84S2GYgLEx"
      },
      "source": [
        "#The mean of age is 38.1"
      ],
      "execution_count": null,
      "outputs": []
    },
    {
      "cell_type": "code",
      "metadata": {
        "id": "0wbDkZD37SS7",
        "colab": {
          "base_uri": "https://localhost:8080/"
        },
        "outputId": "6896d307-5765-41ed-dff1-5becf1c34665"
      },
      "source": [
        "age_std=np.std(age)\n",
        "print(age_std)"
      ],
      "execution_count": 141,
      "outputs": [
        {
          "output_type": "stream",
          "name": "stdout",
          "text": [
            "13.341478176165857\n"
          ]
        }
      ]
    },
    {
      "cell_type": "code",
      "metadata": {
        "colab": {
          "base_uri": "https://localhost:8080/"
        },
        "id": "YvgNaCakgpcy",
        "outputId": "29f67759-5cc2-48ca-a562-5f92da20e601"
      },
      "source": [
        "round(age_std,2)"
      ],
      "execution_count": 188,
      "outputs": [
        {
          "output_type": "execute_result",
          "data": {
            "text/plain": [
              "13.34"
            ]
          },
          "metadata": {},
          "execution_count": 188
        }
      ]
    },
    {
      "cell_type": "code",
      "metadata": {
        "id": "HKSiDCxfga0o"
      },
      "source": [
        "# The standard deviation of the age is 13.34"
      ],
      "execution_count": null,
      "outputs": []
    },
    {
      "cell_type": "markdown",
      "metadata": {
        "id": "38PERqEvg5tH"
      },
      "source": [
        "**Step 4: Checking country's race distribution to identify minorities**"
      ]
    },
    {
      "cell_type": "code",
      "metadata": {
        "id": "SX6XeFGeQ-XH"
      },
      "source": [
        "race_0=data_new[data_new[ : ,2]==0]"
      ],
      "execution_count": 142,
      "outputs": []
    },
    {
      "cell_type": "code",
      "metadata": {
        "colab": {
          "base_uri": "https://localhost:8080/"
        },
        "id": "h9JPSZ_XRTt8",
        "outputId": "69c54b7c-98e8-46f2-ea2b-52ad6a265535"
      },
      "source": [
        "race_0"
      ],
      "execution_count": 143,
      "outputs": [
        {
          "output_type": "execute_result",
          "data": {
            "text/plain": [
              "array([[34,  4,  0,  1,  0,  0, 45,  0],\n",
              "       [35, 10,  0,  0,  0,  0, 40,  0],\n",
              "       [60,  6,  0,  0,  0,  0, 10,  0],\n",
              "       [51,  9,  0,  1,  0,  0, 40,  0],\n",
              "       [25, 10,  0,  0,  0,  0, 20,  0],\n",
              "       [20,  9,  0,  1,  0,  0, 48,  0],\n",
              "       [23, 10,  0,  0,  0,  0, 25,  0],\n",
              "       [29,  9,  0,  1,  0,  0, 40,  0],\n",
              "       [27, 12,  0,  1,  0,  0, 40,  0],\n",
              "       [31, 12,  0,  0,  0,  0, 40,  0]])"
            ]
          },
          "metadata": {},
          "execution_count": 143
        }
      ]
    },
    {
      "cell_type": "code",
      "metadata": {
        "id": "4DvzOko6Psy7"
      },
      "source": [
        "race_1=data_new[data_new[ : ,2]==1]"
      ],
      "execution_count": 144,
      "outputs": []
    },
    {
      "cell_type": "code",
      "metadata": {
        "colab": {
          "base_uri": "https://localhost:8080/"
        },
        "id": "5YejmZrwPxtX",
        "outputId": "cbc587be-48eb-4e2a-8f9a-c1c9c42cae13"
      },
      "source": [
        "race_1\n"
      ],
      "execution_count": 145,
      "outputs": [
        {
          "output_type": "execute_result",
          "data": {
            "text/plain": [
              "array([[  30,   13,    1,    1,    0,    0,   40,    1],\n",
              "       [  40,   11,    1,    1,    0,    0,   40,    1],\n",
              "       [  54,   10,    1,    1,    0,    0,   60,    1],\n",
              "       [  30,    9,    1,    0,    0, 1573,   35,    0],\n",
              "       [  49,   10,    1,    1,    0,    0,   40,    1],\n",
              "       [  33,   13,    1,    0,    0,    0,   40,    0],\n",
              "       [  44,   14,    1,    0,    0,    0,   40,    0],\n",
              "       [  28,    9,    1,    0,    0,    0,   40,    0],\n",
              "       [  60,    9,    1,    1,    0,    0,   40,    0],\n",
              "       [  42,    9,    1,    1,    0,    0,   40,    1],\n",
              "       [  37,   10,    1,    1,    0,    0,   75,    1],\n",
              "       [  39,   14,    1,    0, 3464,    0,   40,    0],\n",
              "       [  21,   10,    1,    0,    0,    0,   25,    0],\n",
              "       [  24,   10,    1,    0,    0,    0,   40,    0],\n",
              "       [  34,   14,    1,    1, 7298,    0,   35,    1],\n",
              "       [  27,   10,    1,    1,    0, 1980,   40,    0],\n",
              "       [  40,   11,    1,    1,    0,    0,   40,    1],\n",
              "       [  55,    9,    1,    0,    0,    0,   40,    0],\n",
              "       [  35,   16,    1,    1,    0,    0,   40,    1],\n",
              "       [  29,   10,    1,    0,    0,    0,   40,    0],\n",
              "       [  20,    7,    1,    0,    0, 1762,   40,    0],\n",
              "       [  55,   10,    1,    0,    0,    0,   40,    0],\n",
              "       [  51,   13,    1,    1,    0, 2415,   40,    1],\n",
              "       [  28,   11,    1,    0,    0,    0,   40,    0],\n",
              "       [  43,   14,    1,    0,    0,    0,   50,    0],\n",
              "       [  67,    9,    1,    1,    0,    0,   40,    1],\n",
              "       [  48,   13,    1,    1,    0,    0,   40,    1]])"
            ]
          },
          "metadata": {},
          "execution_count": 145
        }
      ]
    },
    {
      "cell_type": "code",
      "metadata": {
        "id": "OxWVu59GP3UK"
      },
      "source": [
        "race_2=data_new[data_new[: ,2]==2]"
      ],
      "execution_count": 146,
      "outputs": []
    },
    {
      "cell_type": "code",
      "metadata": {
        "colab": {
          "base_uri": "https://localhost:8080/"
        },
        "id": "xFTeMbIsP668",
        "outputId": "f62d78e7-1f1a-4fbf-b97a-dfd4d2cd7300"
      },
      "source": [
        "race_2"
      ],
      "execution_count": 147,
      "outputs": [
        {
          "output_type": "execute_result",
          "data": {
            "text/plain": [
              "array([[  53,    7,    2,    1,    0,    0,   40,    0],\n",
              "       [  28,   13,    2,    0,    0,    0,   40,    0],\n",
              "       [  49,    5,    2,    0,    0,    0,   16,    0],\n",
              "       [  37,   10,    2,    1,    0,    0,   80,    1],\n",
              "       [  32,   12,    2,    1,    0,    0,   50,    0],\n",
              "       [  54,    9,    2,    0,    0,    0,   20,    0],\n",
              "       [  35,    5,    2,    1,    0,    0,   40,    0],\n",
              "       [  20,   10,    2,    1,    0,    0,   44,    0],\n",
              "       [  22,   10,    2,    1,    0,    0,   15,    0],\n",
              "       [  57,   13,    2,    1,    0,    0,   40,    1],\n",
              "       [  31,   13,    2,    0,    0,    0,   40,    0],\n",
              "       [  28,   10,    2,    0,    0,    0,   25,    0],\n",
              "       [  32,    9,    2,    1,    0,    0,   40,    0],\n",
              "       [  49,   11,    2,    1,    0,    0,   40,    1],\n",
              "       [  30,   13,    2,    1,    0,    0,   40,    0],\n",
              "       [  19,   10,    2,    1,    0,    0,   35,    0],\n",
              "       [  46,   12,    2,    0,    0,    0,   36,    0],\n",
              "       [  31,    9,    2,    0,    0,    0,   30,    0],\n",
              "       [  71,   10,    2,    1,    0, 1816,    2,    0],\n",
              "       [  42,   13,    2,    1,    0,    0,   50,    0],\n",
              "       [  21,    9,    2,    1,    0,    0,   40,    0],\n",
              "       [  34,    9,    2,    1,    0,    0,   40,    0],\n",
              "       [  44,   10,    2,    1,    0,    0,   38,    1],\n",
              "       [  30,   10,    2,    1,    0,    0,   45,    0],\n",
              "       [  34,    9,    2,    1,    0,    0,   40,    0],\n",
              "       [  38,   10,    2,    0,    0,    0,   28,    0],\n",
              "       [  41,   13,    2,    1,    0,    0,   40,    0],\n",
              "       [  36,   13,    2,    1, 7298,    0,   36,    1],\n",
              "       [  44,    9,    2,    1,    0,    0,   40,    0],\n",
              "       [  37,   13,    2,    1,    0,    0,   60,    1],\n",
              "       [  90,    9,    2,    1,    0, 2206,   40,    0],\n",
              "       [  54,    9,    2,    1,    0,    0,   20,    0],\n",
              "       [  35,    7,    2,    1, 3674,    0,   40,    0],\n",
              "       [  41,    9,    2,    0,    0,    0,   38,    0],\n",
              "       [  42,   13,    2,    0,    0,    0,   40,    0],\n",
              "       [  59,    6,    2,    0,    0,    0,   30,    0],\n",
              "       [  43,    9,    2,    1,    0,    0,   40,    0],\n",
              "       [  34,   12,    2,    0,    0,    0,   45,    0],\n",
              "       [  27,   13,    2,    0,    0,    0,   40,    0],\n",
              "       [  19,   10,    2,    0,    0,    0,   25,    0],\n",
              "       [  36,   13,    2,    0,    0,    0,   40,    1],\n",
              "       [  23,   11,    2,    0,    0,    0,   15,    0],\n",
              "       [  41,   10,    2,    1,    0,    0,   45,    0],\n",
              "       [  19,    9,    2,    1,    0,    0,   30,    0],\n",
              "       [  45,    9,    2,    1,    0,    0,   40,    0],\n",
              "       [  22,   10,    2,    0,    0,    0,   40,    0],\n",
              "       [  45,    9,    2,    1,    0,    0,   40,    0],\n",
              "       [  44,    9,    2,    1,    0,    0,   40,    0],\n",
              "       [  41,   10,    2,    0,    0,    0,   24,    0],\n",
              "       [  24,    9,    2,    0,    0,    0,   40,    0],\n",
              "       [  34,    7,    2,    1,    0,    0,   40,    0],\n",
              "       [  34,    9,    2,    1,  594,    0,   60,    0],\n",
              "       [  44,    9,    2,    0,    0,    0,   40,    0],\n",
              "       [  19,    9,    2,    0,    0,    0,   40,    0],\n",
              "       [  42,   12,    2,    1,    0,    0,   40,    1],\n",
              "       [  38,   10,    2,    1,    0,    0,   50,    0],\n",
              "       [  54,    9,    2,    1,    0,    0,   40,    0],\n",
              "       [  52,    8,    2,    1,  594,    0,   40,    0],\n",
              "       [  25,   10,    2,    0,    0,    0,   20,    0],\n",
              "       [  24,   13,    2,    1,    0,    0,   40,    0],\n",
              "       [  47,    9,    2,    0,    0,    0,   40,    0],\n",
              "       [  53,    3,    2,    0,    0,    0,   30,    0],\n",
              "       [  24,   10,    2,    1,    0,    0,   50,    0],\n",
              "       [  36,    9,    2,    1,    0,    0,   40,    0],\n",
              "       [  57,    2,    2,    0,    0,    0,   30,    0],\n",
              "       [  34,    9,    2,    0,    0,    0,   40,    0],\n",
              "       [  35,    9,    2,    0,    0,    0,   40,    0],\n",
              "       [  33,   11,    2,    0,    0,    0,   40,    1],\n",
              "       [  24,    9,    2,    0,    0,    0,   40,    0],\n",
              "       [  48,    9,    2,    0,    0,    0,   37,    0],\n",
              "       [  36,    9,    2,    1,    0,    0,   40,    0],\n",
              "       [  30,    9,    2,    1,    0,    0,   45,    0],\n",
              "       [  45,    7,    2,    0,    0,    0,   20,    0],\n",
              "       [  65,    5,    2,    0,    0,    0,   24,    0],\n",
              "       [  30,    9,    2,    1,    0,    0,   60,    0],\n",
              "       [  47,   10,    2,    0,    0,    0,   40,    0],\n",
              "       [  49,    6,    2,    0,    0,    0,   40,    0],\n",
              "       [  30,   13,    2,    0,    0,    0,   40,    1],\n",
              "       [  44,    8,    2,    1,    0,    0,   40,    1],\n",
              "       [  42,    9,    2,    1,    0,    0,   40,    1],\n",
              "       [  23,   10,    2,    1,    0,    0,   40,    0],\n",
              "       [  24,   10,    2,    0,    0,    0,   45,    0],\n",
              "       [  40,    8,    2,    1,    0,    0,   40,    0],\n",
              "       [  45,   10,    2,    1,    0,    0,   40,    0],\n",
              "       [  36,   10,    2,    0,    0,    0,   40,    0],\n",
              "       [  31,    9,    2,    0,    0,    0,   40,    0],\n",
              "       [  45,   10,    2,    0,    0,    0,   40,    0],\n",
              "       [  36,   10,    2,    0,    0,    0,   36,    0],\n",
              "       [  56,    9,    2,    0,  594,    0,   20,    0],\n",
              "       [  32,   10,    2,    0,    0,    0,   40,    0],\n",
              "       [  29,    7,    2,    1,    0,    0,   40,    0],\n",
              "       [  37,    9,    2,    1,    0,    0,   40,    0],\n",
              "       [  42,   10,    2,    0,    0,    0,   38,    0],\n",
              "       [  22,   10,    2,    1,    0,    0,   20,    0],\n",
              "       [  25,    9,    2,    1,    0,    0,   40,    0],\n",
              "       [  24,    9,    2,    1,    0, 1721,   30,    0],\n",
              "       [  22,   10,    2,    1,    0,    0,   40,    0],\n",
              "       [  55,    3,    2,    1,    0,    0,   25,    0],\n",
              "       [  23,    9,    2,    0,    0,    0,    7,    0],\n",
              "       [  54,    9,    2,    1,    0,    0,   40,    0],\n",
              "       [  48,   10,    2,    0,    0,    0,   30,    0],\n",
              "       [  24,   13,    2,    1,    0,    0,   15,    0],\n",
              "       [  23,    9,    2,    1,    0,    0,   40,    0],\n",
              "       [  38,   10,    2,    0,    0,    0,   40,    0],\n",
              "       [  35,    9,    2,    1,    0,    0,   40,    0],\n",
              "       [  54,   10,    2,    0,    0,    0,   35,    0],\n",
              "       [  51,    4,    2,    0,    0,    0,   40,    0],\n",
              "       [  78,    9,    2,    0, 2964,    0,   40,    0],\n",
              "       [  23,    9,    2,    0,    0,    0,   40,    0],\n",
              "       [  41,    9,    2,    0,    0,    0,   35,    0]])"
            ]
          },
          "metadata": {},
          "execution_count": 147
        }
      ]
    },
    {
      "cell_type": "code",
      "metadata": {
        "id": "-HBG_PYXO98H"
      },
      "source": [
        "race_3=data_new[data_new[: ,2]==3]"
      ],
      "execution_count": 148,
      "outputs": []
    },
    {
      "cell_type": "code",
      "metadata": {
        "colab": {
          "base_uri": "https://localhost:8080/"
        },
        "id": "FroWq3Z5Uimu",
        "outputId": "3f47df1b-b496-4b2f-cf90-3d6956815452"
      },
      "source": [
        "race_3"
      ],
      "execution_count": 149,
      "outputs": [
        {
          "output_type": "execute_result",
          "data": {
            "text/plain": [
              "array([[  25,   10,    3,    0,    0,    0,   40,    0],\n",
              "       [  33,   10,    3,    0,    0,    0,   40,    0],\n",
              "       [  65,    7,    3,    1,    0,    0,   40,    0],\n",
              "       [  28,    4,    3,    1,    0, 2179,   40,    0],\n",
              "       [  44,    7,    3,    0,    0,    0,   46,    0],\n",
              "       [  40,   13,    3,    0,    0,    0,   55,    1]])"
            ]
          },
          "metadata": {},
          "execution_count": 149
        }
      ]
    },
    {
      "cell_type": "code",
      "metadata": {
        "id": "R7v4oVwJUjQ1"
      },
      "source": [
        "race_4=data_new[data_new[: ,2]==4]"
      ],
      "execution_count": 150,
      "outputs": []
    },
    {
      "cell_type": "code",
      "metadata": {
        "colab": {
          "base_uri": "https://localhost:8080/"
        },
        "id": "7GMeia5HPZsE",
        "outputId": "b0fe9f8d-4724-484a-a5cb-bd470ceca2d4"
      },
      "source": [
        "race_4"
      ],
      "execution_count": 151,
      "outputs": [
        {
          "output_type": "execute_result",
          "data": {
            "text/plain": [
              "array([[39, 13,  4, ...,  0, 40,  0],\n",
              "       [50, 13,  4, ...,  0, 13,  0],\n",
              "       [38,  9,  4, ...,  0, 40,  0],\n",
              "       ...,\n",
              "       [40, 10,  4, ...,  0, 40,  0],\n",
              "       [39, 13,  4, ...,  0, 50,  1],\n",
              "       [50,  9,  4, ...,  0, 40,  0]])"
            ]
          },
          "metadata": {},
          "execution_count": 151
        }
      ]
    },
    {
      "cell_type": "code",
      "metadata": {
        "id": "p2o-19TAhmYS"
      },
      "source": [
        "# Determining the length of the race distribution respectively"
      ],
      "execution_count": null,
      "outputs": []
    },
    {
      "cell_type": "code",
      "metadata": {
        "id": "bPhdg8YoUj4W"
      },
      "source": [
        "len_0=len(race_0)"
      ],
      "execution_count": 152,
      "outputs": []
    },
    {
      "cell_type": "code",
      "metadata": {
        "colab": {
          "base_uri": "https://localhost:8080/"
        },
        "id": "0moheCaEUi9W",
        "outputId": "5255bde4-c4ac-4fda-c837-9a806412e815"
      },
      "source": [
        "len_0"
      ],
      "execution_count": 153,
      "outputs": [
        {
          "output_type": "execute_result",
          "data": {
            "text/plain": [
              "10"
            ]
          },
          "metadata": {},
          "execution_count": 153
        }
      ]
    },
    {
      "cell_type": "code",
      "metadata": {
        "id": "KfaozFgRUiXP"
      },
      "source": [
        "len_1=len(race_1)"
      ],
      "execution_count": 154,
      "outputs": []
    },
    {
      "cell_type": "code",
      "metadata": {
        "colab": {
          "base_uri": "https://localhost:8080/"
        },
        "id": "V82PHLepVfVK",
        "outputId": "24fddb8f-a296-4171-cf4b-ba03a6ab8fa3"
      },
      "source": [
        "len_1"
      ],
      "execution_count": 155,
      "outputs": [
        {
          "output_type": "execute_result",
          "data": {
            "text/plain": [
              "27"
            ]
          },
          "metadata": {},
          "execution_count": 155
        }
      ]
    },
    {
      "cell_type": "code",
      "metadata": {
        "id": "oyP1PU-JVibe"
      },
      "source": [
        "len_2=len(race_2)"
      ],
      "execution_count": 156,
      "outputs": []
    },
    {
      "cell_type": "code",
      "metadata": {
        "colab": {
          "base_uri": "https://localhost:8080/"
        },
        "id": "SrKh5NcaViS0",
        "outputId": "db1a33b2-8436-4e73-fec1-0ddca77c2e61"
      },
      "source": [
        "len_2"
      ],
      "execution_count": 157,
      "outputs": [
        {
          "output_type": "execute_result",
          "data": {
            "text/plain": [
              "110"
            ]
          },
          "metadata": {},
          "execution_count": 157
        }
      ]
    },
    {
      "cell_type": "code",
      "metadata": {
        "id": "o4jQ4snfViGS"
      },
      "source": [
        "len_3=len(race_3)"
      ],
      "execution_count": 158,
      "outputs": []
    },
    {
      "cell_type": "code",
      "metadata": {
        "colab": {
          "base_uri": "https://localhost:8080/"
        },
        "id": "JCemY7jkVfCz",
        "outputId": "ccce54a1-a220-4419-d0f9-7443b43818d9"
      },
      "source": [
        "len_3"
      ],
      "execution_count": 159,
      "outputs": [
        {
          "output_type": "execute_result",
          "data": {
            "text/plain": [
              "6"
            ]
          },
          "metadata": {},
          "execution_count": 159
        }
      ]
    },
    {
      "cell_type": "code",
      "metadata": {
        "id": "HCZaJcHdVj7G"
      },
      "source": [
        "len_4=len(race_4)"
      ],
      "execution_count": 160,
      "outputs": []
    },
    {
      "cell_type": "code",
      "metadata": {
        "colab": {
          "base_uri": "https://localhost:8080/"
        },
        "id": "TgFSTyrXQpE-",
        "outputId": "de145d6d-1da8-4e34-b485-b41ba50c1d90"
      },
      "source": [
        "len_4"
      ],
      "execution_count": 161,
      "outputs": [
        {
          "output_type": "execute_result",
          "data": {
            "text/plain": [
              "848"
            ]
          },
          "metadata": {},
          "execution_count": 161
        }
      ]
    },
    {
      "cell_type": "code",
      "metadata": {
        "id": "YrUl6IgHiGNt"
      },
      "source": [
        "# As seen from the length of race distributions, race with minimum number of citizens is race_3 with 6 citizens"
      ],
      "execution_count": null,
      "outputs": []
    },
    {
      "cell_type": "code",
      "metadata": {
        "id": "EW3foBT-eVfi"
      },
      "source": [
        "race_min_citizens=len_3"
      ],
      "execution_count": 162,
      "outputs": []
    },
    {
      "cell_type": "code",
      "metadata": {
        "colab": {
          "base_uri": "https://localhost:8080/"
        },
        "id": "gkl763WkerlI",
        "outputId": "e04b9b10-5180-4c85-cb74-412c8d802cd6"
      },
      "source": [
        "race_min_citizens"
      ],
      "execution_count": 163,
      "outputs": [
        {
          "output_type": "execute_result",
          "data": {
            "text/plain": [
              "6"
            ]
          },
          "metadata": {},
          "execution_count": 163
        }
      ]
    },
    {
      "cell_type": "code",
      "metadata": {
        "id": "ImEPR_Qbio_B"
      },
      "source": [
        "minority_race=len_3"
      ],
      "execution_count": 164,
      "outputs": []
    },
    {
      "cell_type": "code",
      "metadata": {
        "colab": {
          "base_uri": "https://localhost:8080/"
        },
        "id": "rjM6Z3KIjBuX",
        "outputId": "29fbc30b-5d6b-4aca-d9b2-3a9d9262c902"
      },
      "source": [
        "minority_race"
      ],
      "execution_count": 165,
      "outputs": [
        {
          "output_type": "execute_result",
          "data": {
            "text/plain": [
              "6"
            ]
          },
          "metadata": {},
          "execution_count": 165
        }
      ]
    },
    {
      "cell_type": "code",
      "metadata": {
        "id": "w4hirxrjjXWb"
      },
      "source": [
        "# Step 5: Checking if gov't policy is in place"
      ],
      "execution_count": 166,
      "outputs": []
    },
    {
      "cell_type": "code",
      "metadata": {
        "id": "51Zi7f4WVj3l"
      },
      "source": [
        "senior_citizens=data_new[age>60]"
      ],
      "execution_count": 167,
      "outputs": []
    },
    {
      "cell_type": "code",
      "metadata": {
        "colab": {
          "base_uri": "https://localhost:8080/"
        },
        "id": "bMQUFfmVfS2K",
        "outputId": "14730d06-ee26-4415-fbd7-83ac85275043"
      },
      "source": [
        "senior_citizens"
      ],
      "execution_count": 168,
      "outputs": [
        {
          "output_type": "execute_result",
          "data": {
            "text/plain": [
              "array([[   79,    10,     4,     1,     0,     0,    20,     0],\n",
              "       [   67,     6,     4,     1,     0,     0,     2,     0],\n",
              "       [   76,    14,     4,     1,     0,     0,    40,     1],\n",
              "       [   61,     9,     4,     1,     0,     0,    40,     0],\n",
              "       [   70,    10,     4,     1,     0,     0,    40,     0],\n",
              "       [   64,     7,     4,     1,     0,  2179,    40,     0],\n",
              "       [   71,    10,     2,     1,     0,  1816,     2,     0],\n",
              "       [   68,     2,     4,     0,     0,     0,    20,     0],\n",
              "       [   66,    11,     4,     0,     0,     0,    20,     0],\n",
              "       [   64,     2,     4,     1,     0,     0,    40,     0],\n",
              "       [   90,     9,     2,     1,     0,  2206,    40,     0],\n",
              "       [   66,     9,     4,     1,  1409,     0,    50,     0],\n",
              "       [   75,    11,     4,     0,     0,     0,    20,     0],\n",
              "       [   65,     9,     4,     0,     0,     0,    40,     0],\n",
              "       [   64,     9,     4,     1,     0,     0,    40,     1],\n",
              "       [   61,     9,     4,     1,     0,     0,    40,     1],\n",
              "       [   65,     9,     4,     1,     0,     0,    16,     0],\n",
              "       [   77,    10,     4,     1,     0,     0,    40,     0],\n",
              "       [   62,     9,     4,     0,     0,     0,    24,     0],\n",
              "       [   76,    14,     4,     1,     0,     0,    10,     0],\n",
              "       [   63,     9,     4,     1,     0,     0,    45,     0],\n",
              "       [   66,     9,     4,     1,  2050,     0,    55,     0],\n",
              "       [   67,     7,     4,     1,     0,     0,     8,     0],\n",
              "       [   65,     7,     3,     1,     0,     0,    40,     0],\n",
              "       [   62,    14,     4,     1,     0,     0,    40,     1],\n",
              "       [   63,     9,     4,     1,     0,     0,    40,     1],\n",
              "       [   80,     9,     4,     1,     0,     0,    24,     0],\n",
              "       [   67,    11,     4,     0,     0,     0,    24,     0],\n",
              "       [   63,     2,     4,     1,     0,     0,    35,     0],\n",
              "       [   72,     9,     4,     1,     0,     0,    20,     0],\n",
              "       [   62,     9,     4,     1,     0,     0,    40,     0],\n",
              "       [   74,    10,     4,     0,     0,     0,     9,     0],\n",
              "       [   67,    15,     4,     1, 20051,     0,    48,     1],\n",
              "       [   72,     7,     4,     0,     0,     0,    40,     0],\n",
              "       [   69,     7,     4,     0,     0,     0,    40,     0],\n",
              "       [   65,    10,     4,     1,     0,     0,    30,     1],\n",
              "       [   65,     5,     2,     0,     0,     0,    24,     0],\n",
              "       [   71,     9,     4,     1,     0,     0,    15,     0],\n",
              "       [   70,     5,     4,     0,  1111,     0,    15,     0],\n",
              "       [   66,     4,     4,     1,     0,     0,     4,     0],\n",
              "       [   65,     7,     4,     1,  9386,     0,    59,     1],\n",
              "       [   61,     9,     4,     1,     0,  2352,    50,     0],\n",
              "       [   61,     9,     4,     1,     0,     0,    40,     0],\n",
              "       [   68,     7,     4,     1,     0,     0,    20,     0],\n",
              "       [   64,    13,     4,     1,     0,     0,    40,     1],\n",
              "       [   64,     9,     4,     1,     0,     0,    45,     0],\n",
              "       [   62,     9,     4,     0,     0,     0,    40,     0],\n",
              "       [   73,     9,     4,     1,     0,     0,    40,     0],\n",
              "       [   72,     7,     4,     0,     0,     0,    24,     0],\n",
              "       [   63,     9,     4,     1,     0,     0,     6,     0],\n",
              "       [   62,    13,     4,     0,     0,     0,    48,     0],\n",
              "       [   61,    14,     4,     0,     0,     0,    40,     1],\n",
              "       [   71,    14,     4,     1, 10605,     0,    40,     1],\n",
              "       [   63,    10,     4,     1,     0,     0,    15,     0],\n",
              "       [   63,     4,     4,     1,     0,     0,    55,     0],\n",
              "       [   67,     9,     1,     1,     0,     0,    40,     1],\n",
              "       [   81,     9,     4,     1,     0,     0,    30,     0],\n",
              "       [   64,     9,     4,     1,     0,     0,     5,     0],\n",
              "       [   67,    13,     4,     1,     0,  2392,    40,     1],\n",
              "       [   78,     9,     2,     0,  2964,     0,    40,     0],\n",
              "       [   63,    11,     4,     0,     0,     0,    20,     0]])"
            ]
          },
          "metadata": {},
          "execution_count": 168
        }
      ]
    },
    {
      "cell_type": "code",
      "metadata": {
        "id": "F9sEDUFYV5Ck"
      },
      "source": [
        "senior_citizens_len=len(senior_citizens)"
      ],
      "execution_count": 169,
      "outputs": []
    },
    {
      "cell_type": "code",
      "metadata": {
        "colab": {
          "base_uri": "https://localhost:8080/"
        },
        "id": "A_Rln9MhfwI5",
        "outputId": "d0debed5-225f-4c22-ad05-934d93ba9801"
      },
      "source": [
        "senior_citizens_len"
      ],
      "execution_count": 170,
      "outputs": [
        {
          "output_type": "execute_result",
          "data": {
            "text/plain": [
              "61"
            ]
          },
          "metadata": {},
          "execution_count": 170
        }
      ]
    },
    {
      "cell_type": "code",
      "metadata": {
        "id": "9cGUq4xIV71_"
      },
      "source": [
        "working_hours_sum=sum(senior_citizens[:,6])"
      ],
      "execution_count": 171,
      "outputs": []
    },
    {
      "cell_type": "code",
      "metadata": {
        "colab": {
          "base_uri": "https://localhost:8080/"
        },
        "id": "Ktr4SfohgP5v",
        "outputId": "ad91079a-0c5d-411e-a7a2-0dad3830f212"
      },
      "source": [
        "working_hours_sum"
      ],
      "execution_count": 172,
      "outputs": [
        {
          "output_type": "execute_result",
          "data": {
            "text/plain": [
              "1917"
            ]
          },
          "metadata": {},
          "execution_count": 172
        }
      ]
    },
    {
      "cell_type": "code",
      "metadata": {
        "id": "y4WmJV7VWmAL"
      },
      "source": [
        "avg_working_hours=working_hours_sum/senior_citizens_len"
      ],
      "execution_count": 173,
      "outputs": []
    },
    {
      "cell_type": "markdown",
      "metadata": {
        "id": "TWWN-VT_6FDb"
      },
      "source": [
        "**bold text**"
      ]
    },
    {
      "cell_type": "code",
      "metadata": {
        "colab": {
          "base_uri": "https://localhost:8080/"
        },
        "id": "CIiUQx1KXLC-",
        "outputId": "a92d4a91-901f-41d8-fc4a-6cd04ab49afe"
      },
      "source": [
        "avg_working_hours"
      ],
      "execution_count": 174,
      "outputs": [
        {
          "output_type": "execute_result",
          "data": {
            "text/plain": [
              "31.42622950819672"
            ]
          },
          "metadata": {},
          "execution_count": 174
        }
      ]
    },
    {
      "cell_type": "markdown",
      "metadata": {
        "id": "hyM02bdjXfmm"
      },
      "source": [
        "**As the average woking hours>25, so policy is not in place**"
      ]
    },
    {
      "cell_type": "code",
      "metadata": {
        "id": "ZhqEH70rXMvT"
      },
      "source": [
        "# Step 6: Checking that higher educated people have better pay in general."
      ],
      "execution_count": 175,
      "outputs": []
    },
    {
      "cell_type": "code",
      "metadata": {
        "id": "IC_VFCxF3Ui2"
      },
      "source": [
        "data_file = 'makeSenseOfCensus.csv'"
      ],
      "execution_count": 176,
      "outputs": []
    },
    {
      "cell_type": "code",
      "metadata": {
        "id": "rABPZ7t_hAjc"
      },
      "source": [
        "high = data_new[data_new[: ,1]>10]"
      ],
      "execution_count": 177,
      "outputs": []
    },
    {
      "cell_type": "code",
      "metadata": {
        "colab": {
          "base_uri": "https://localhost:8080/"
        },
        "id": "_zvkLdGTwajc",
        "outputId": "d98c97be-fdf4-484a-8e9b-c10dfc685230"
      },
      "source": [
        "high"
      ],
      "execution_count": 178,
      "outputs": [
        {
          "output_type": "execute_result",
          "data": {
            "text/plain": [
              "array([[39, 13,  4, ...,  0, 40,  0],\n",
              "       [50, 13,  4, ...,  0, 13,  0],\n",
              "       [28, 13,  2, ...,  0, 40,  0],\n",
              "       ...,\n",
              "       [45, 14,  4, ...,  0, 45,  0],\n",
              "       [48, 13,  4, ...,  0, 58,  1],\n",
              "       [39, 13,  4, ...,  0, 50,  1]])"
            ]
          },
          "metadata": {},
          "execution_count": 178
        }
      ]
    },
    {
      "cell_type": "code",
      "metadata": {
        "id": "nYyzyUINwc-M"
      },
      "source": [
        "low = data_new[data_new[: ,1]<=10]"
      ],
      "execution_count": 179,
      "outputs": []
    },
    {
      "cell_type": "code",
      "metadata": {
        "colab": {
          "base_uri": "https://localhost:8080/"
        },
        "id": "lL13Hh3OxV49",
        "outputId": "16f0507e-871e-41f2-d95f-962877856afe"
      },
      "source": [
        "low"
      ],
      "execution_count": 180,
      "outputs": [
        {
          "output_type": "execute_result",
          "data": {
            "text/plain": [
              "array([[38,  9,  4, ...,  0, 40,  0],\n",
              "       [53,  7,  2, ...,  0, 40,  0],\n",
              "       [49,  5,  2, ...,  0, 16,  0],\n",
              "       ...,\n",
              "       [56,  9,  4, ...,  0, 55,  1],\n",
              "       [40, 10,  4, ...,  0, 40,  0],\n",
              "       [50,  9,  4, ...,  0, 40,  0]])"
            ]
          },
          "metadata": {},
          "execution_count": 180
        }
      ]
    },
    {
      "cell_type": "code",
      "metadata": {
        "id": "tCfhyWzR4jOC"
      },
      "source": [
        "avg_pay_high=high[:,7]\n",
        "avg_pay_high_mean=avg_pay_high.mean()"
      ],
      "execution_count": 181,
      "outputs": []
    },
    {
      "cell_type": "code",
      "metadata": {
        "colab": {
          "base_uri": "https://localhost:8080/"
        },
        "id": "iN4D1bEq5Y7M",
        "outputId": "082ddca3-4a4c-4ee1-ce96-230175c62722"
      },
      "source": [
        "avg_pay_high_mean"
      ],
      "execution_count": 182,
      "outputs": [
        {
          "output_type": "execute_result",
          "data": {
            "text/plain": [
              "0.42813455657492355"
            ]
          },
          "metadata": {},
          "execution_count": 182
        }
      ]
    },
    {
      "cell_type": "code",
      "metadata": {
        "colab": {
          "base_uri": "https://localhost:8080/"
        },
        "id": "2hERS_5k4_Zx",
        "outputId": "d21e54d8-ea80-4100-b19f-b05d8836d939"
      },
      "source": [
        "print(round(avg_pay_high_mean,2))"
      ],
      "execution_count": 183,
      "outputs": [
        {
          "output_type": "stream",
          "name": "stdout",
          "text": [
            "0.43\n"
          ]
        }
      ]
    },
    {
      "cell_type": "code",
      "metadata": {
        "id": "5YB83_3ny1aW"
      },
      "source": [
        "avg_pay_low=low[:,7]\n"
      ],
      "execution_count": 184,
      "outputs": []
    },
    {
      "cell_type": "code",
      "metadata": {
        "id": "i-iPjIwf44YZ"
      },
      "source": [
        "avg_pay_low_mean=avg_pay_low.mean()"
      ],
      "execution_count": 185,
      "outputs": []
    },
    {
      "cell_type": "code",
      "metadata": {
        "colab": {
          "base_uri": "https://localhost:8080/"
        },
        "id": "rScQ04t15wz0",
        "outputId": "73c05d5d-c500-43b6-be72-7b1e6276bb0a"
      },
      "source": [
        "avg_pay_low_mean"
      ],
      "execution_count": 186,
      "outputs": [
        {
          "output_type": "execute_result",
          "data": {
            "text/plain": [
              "0.13649851632047477"
            ]
          },
          "metadata": {},
          "execution_count": 186
        }
      ]
    },
    {
      "cell_type": "code",
      "metadata": {
        "colab": {
          "base_uri": "https://localhost:8080/"
        },
        "id": "luyqAlR747hp",
        "outputId": "cf738ed0-1539-4771-f90b-d83ed4bf6c44"
      },
      "source": [
        "round(avg_pay_low_mean,2)"
      ],
      "execution_count": 187,
      "outputs": [
        {
          "output_type": "execute_result",
          "data": {
            "text/plain": [
              "0.14"
            ]
          },
          "metadata": {},
          "execution_count": 187
        }
      ]
    },
    {
      "cell_type": "code",
      "metadata": {
        "id": "f-J4gOMY552f"
      },
      "source": [
        ""
      ],
      "execution_count": 187,
      "outputs": []
    }
  ]
}